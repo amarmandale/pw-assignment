{
 "cells": [
  {
   "cell_type": "code",
   "execution_count": 1,
   "id": "45315e17-21d3-4011-8e44-750d971b6297",
   "metadata": {},
   "outputs": [
    {
     "data": {
      "text/plain": [
       "2"
      ]
     },
     "execution_count": 1,
     "metadata": {},
     "output_type": "execute_result"
    }
   ],
   "source": [
    "1+1 "
   ]
  },
  {
   "cell_type": "code",
   "execution_count": 2,
   "id": "81a50525-1d0e-4e34-aaeb-0f3464bd55c3",
   "metadata": {},
   "outputs": [],
   "source": [
    "amar=10"
   ]
  },
  {
   "cell_type": "code",
   "execution_count": 3,
   "id": "6b57f4fe-996c-4247-8389-d2161cbbd6d4",
   "metadata": {},
   "outputs": [
    {
     "data": {
      "text/plain": [
       "12"
      ]
     },
     "execution_count": 3,
     "metadata": {},
     "output_type": "execute_result"
    }
   ],
   "source": [
    "2+ amar"
   ]
  },
  {
   "cell_type": "code",
   "execution_count": 4,
   "id": "8777519d-4f3b-4616-95ea-4c62ca2f1039",
   "metadata": {},
   "outputs": [
    {
     "data": {
      "text/plain": [
       "int"
      ]
     },
     "execution_count": 4,
     "metadata": {},
     "output_type": "execute_result"
    }
   ],
   "source": [
    "type(amar)"
   ]
  },
  {
   "cell_type": "code",
   "execution_count": 5,
   "id": "f3719596-c685-4ce2-b55d-892f68465738",
   "metadata": {},
   "outputs": [],
   "source": [
    "a= 10"
   ]
  },
  {
   "cell_type": "code",
   "execution_count": 6,
   "id": "c5771218-e12a-4104-9539-ca406d06aa40",
   "metadata": {},
   "outputs": [
    {
     "data": {
      "text/plain": [
       "10"
      ]
     },
     "execution_count": 6,
     "metadata": {},
     "output_type": "execute_result"
    }
   ],
   "source": [
    "a"
   ]
  },
  {
   "cell_type": "code",
   "execution_count": 7,
   "id": "76691700-e9f0-45f7-908d-406cfd52679b",
   "metadata": {},
   "outputs": [
    {
     "data": {
      "text/plain": [
       "'0b1010'"
      ]
     },
     "execution_count": 7,
     "metadata": {},
     "output_type": "execute_result"
    }
   ],
   "source": [
    "bin(a)"
   ]
  },
  {
   "cell_type": "code",
   "execution_count": 31,
   "id": "b108c338-ed29-4c81-bc12-480eda978db9",
   "metadata": {},
   "outputs": [
    {
     "name": "stdout",
     "output_type": "stream",
     "text": [
      "a\n",
      "m\n",
      "a\n",
      "r\n"
     ]
    }
   ],
   "source": [
    "a= \"amar\"\n",
    "for m in a:\n",
    "    print(m)\n",
    "    type(a)"
   ]
  },
  {
   "cell_type": "code",
   "execution_count": 11,
   "id": "b727dca5-53be-4d78-b46a-95b865b96a54",
   "metadata": {},
   "outputs": [
    {
     "data": {
      "text/plain": [
       "20"
      ]
     },
     "execution_count": 11,
     "metadata": {},
     "output_type": "execute_result"
    }
   ],
   "source": [
    "amar + 10"
   ]
  },
  {
   "cell_type": "code",
   "execution_count": 13,
   "id": "40dfbfb6-09d9-448b-945f-681d252878ec",
   "metadata": {},
   "outputs": [
    {
     "name": "stdout",
     "output_type": "stream",
     "text": [
      "29\n"
     ]
    }
   ],
   "source": [
    "a=10\n",
    "amar=19\n",
    "print (a+amar)"
   ]
  },
  {
   "cell_type": "code",
   "execution_count": 14,
   "id": "e47168ef-9e8a-4d47-a828-e40f31a81b0d",
   "metadata": {},
   "outputs": [],
   "source": [
    "b=2.23"
   ]
  },
  {
   "cell_type": "code",
   "execution_count": 15,
   "id": "e660119b-d519-4a49-b87f-555e8b5f1da4",
   "metadata": {},
   "outputs": [
    {
     "data": {
      "text/plain": [
       "float"
      ]
     },
     "execution_count": 15,
     "metadata": {},
     "output_type": "execute_result"
    }
   ],
   "source": [
    "type(b)"
   ]
  },
  {
   "cell_type": "code",
   "execution_count": 18,
   "id": "c17f71d2-ab2c-48ce-a0c9-caaff5843f39",
   "metadata": {},
   "outputs": [],
   "source": [
    "d= 4+4j"
   ]
  },
  {
   "cell_type": "code",
   "execution_count": 20,
   "id": "22a67750-7ffa-4c5c-b631-27ae945c42cb",
   "metadata": {},
   "outputs": [
    {
     "data": {
      "text/plain": [
       "complex"
      ]
     },
     "execution_count": 20,
     "metadata": {},
     "output_type": "execute_result"
    }
   ],
   "source": [
    "type(d)"
   ]
  },
  {
   "cell_type": "code",
   "execution_count": null,
   "id": "9b0a0d72-7af7-497d-8bc2-dff5fc467633",
   "metadata": {},
   "outputs": [],
   "source": []
  },
  {
   "cell_type": "code",
   "execution_count": 23,
   "id": "4778c34e-9759-429e-9544-320646a27f7d",
   "metadata": {},
   "outputs": [
    {
     "data": {
      "text/plain": [
       "bool"
      ]
     },
     "execution_count": 23,
     "metadata": {},
     "output_type": "execute_result"
    }
   ],
   "source": [
    "s=True\n",
    "type(s)\n",
    "p= False\n",
    "type(p)"
   ]
  },
  {
   "cell_type": "code",
   "execution_count": 24,
   "id": "4dbc4db9-e4dd-4476-9030-969c7cc5ee4a",
   "metadata": {},
   "outputs": [
    {
     "data": {
      "text/plain": [
       "1"
      ]
     },
     "execution_count": 24,
     "metadata": {},
     "output_type": "execute_result"
    }
   ],
   "source": [
    "s+p"
   ]
  },
  {
   "cell_type": "code",
   "execution_count": 25,
   "id": "7fda737c-6d2e-4d6a-9837-9e6086dfd6cf",
   "metadata": {},
   "outputs": [
    {
     "data": {
      "text/plain": [
       "1"
      ]
     },
     "execution_count": 25,
     "metadata": {},
     "output_type": "execute_result"
    }
   ],
   "source": [
    "True*True"
   ]
  },
  {
   "cell_type": "code",
   "execution_count": 26,
   "id": "9a944a4f-4686-40b1-8e5f-a8fb29319ed9",
   "metadata": {},
   "outputs": [
    {
     "data": {
      "text/plain": [
       "0.0"
      ]
     },
     "execution_count": 26,
     "metadata": {},
     "output_type": "execute_result"
    }
   ],
   "source": [
    "False/True"
   ]
  },
  {
   "cell_type": "code",
   "execution_count": 27,
   "id": "ce1fed0d-90d8-43e9-b78a-6a30bf3989cc",
   "metadata": {},
   "outputs": [
    {
     "ename": "ZeroDivisionError",
     "evalue": "division by zero",
     "output_type": "error",
     "traceback": [
      "\u001b[0;31m---------------------------------------------------------------------------\u001b[0m",
      "\u001b[0;31mZeroDivisionError\u001b[0m                         Traceback (most recent call last)",
      "Cell \u001b[0;32mIn[27], line 1\u001b[0m\n\u001b[0;32m----> 1\u001b[0m \u001b[38;5;28;43;01mTrue\u001b[39;49;00m\u001b[38;5;241;43m/\u001b[39;49m\u001b[38;5;28;43;01mFalse\u001b[39;49;00m\n",
      "\u001b[0;31mZeroDivisionError\u001b[0m: division by zero"
     ]
    }
   ],
   "source": [
    "True/False"
   ]
  },
  {
   "cell_type": "code",
   "execution_count": 28,
   "id": "ecbf97f8-a13b-4cf3-a71d-b2f7146788a4",
   "metadata": {},
   "outputs": [
    {
     "ename": "ZeroDivisionError",
     "evalue": "division by zero",
     "output_type": "error",
     "traceback": [
      "\u001b[0;31m---------------------------------------------------------------------------\u001b[0m",
      "\u001b[0;31mZeroDivisionError\u001b[0m                         Traceback (most recent call last)",
      "Cell \u001b[0;32mIn[28], line 1\u001b[0m\n\u001b[0;32m----> 1\u001b[0m \u001b[38;5;241;43m1\u001b[39;49m\u001b[38;5;241;43m/\u001b[39;49m\u001b[38;5;241;43m0\u001b[39;49m\n",
      "\u001b[0;31mZeroDivisionError\u001b[0m: division by zero"
     ]
    }
   ],
   "source": [
    "1/0"
   ]
  },
  {
   "cell_type": "code",
   "execution_count": 36,
   "id": "efe25eb2-a68f-45d0-86be-662c30c8f874",
   "metadata": {},
   "outputs": [],
   "source": [
    "amar = 5+8j"
   ]
  },
  {
   "cell_type": "code",
   "execution_count": 37,
   "id": "39d54762-1aa7-43da-91ee-0221bb40771a",
   "metadata": {},
   "outputs": [
    {
     "data": {
      "text/plain": [
       "complex"
      ]
     },
     "execution_count": 37,
     "metadata": {},
     "output_type": "execute_result"
    }
   ],
   "source": [
    "type(amar)"
   ]
  },
  {
   "cell_type": "code",
   "execution_count": 43,
   "id": "16aa1c04-fca5-419e-b13e-f22f456a8819",
   "metadata": {},
   "outputs": [
    {
     "data": {
      "text/plain": [
       "5.0"
      ]
     },
     "execution_count": 43,
     "metadata": {},
     "output_type": "execute_result"
    }
   ],
   "source": [
    "amar.real"
   ]
  },
  {
   "cell_type": "raw",
   "id": "7eda282c-f63a-4976-9f63-8deab5563264",
   "metadata": {},
   "source": [
    "amar.imag"
   ]
  },
  {
   "cell_type": "markdown",
   "id": "c9db8a9d-14bb-4542-96c3-70e5d30a0fae",
   "metadata": {},
   "source": []
  },
  {
   "cell_type": "code",
   "execution_count": 44,
   "id": "9544bc9a-0413-4233-9249-6511e47c948e",
   "metadata": {},
   "outputs": [
    {
     "name": "stdout",
     "output_type": "stream",
     "text": [
      " my name is amar\n"
     ]
    }
   ],
   "source": [
    "print(\" my name is amar\")# console "
   ]
  },
  {
   "cell_type": "code",
   "execution_count": 45,
   "id": "2fee15ee-7e83-41d2-b96e-16c818c956e0",
   "metadata": {},
   "outputs": [
    {
     "name": "stdout",
     "output_type": "stream",
     "text": [
      "amar\n"
     ]
    }
   ],
   "source": [
    "print(a)"
   ]
  },
  {
   "cell_type": "code",
   "execution_count": 46,
   "id": "f5c81835-bb91-4457-b183-ee1cc39e6114",
   "metadata": {},
   "outputs": [],
   "source": [
    "x= \"amarbhau\""
   ]
  },
  {
   "cell_type": "code",
   "execution_count": 47,
   "id": "3d98f454-89fd-4dc0-851f-8f02d2cfe1d4",
   "metadata": {},
   "outputs": [
    {
     "data": {
      "text/plain": [
       "str"
      ]
     },
     "execution_count": 47,
     "metadata": {},
     "output_type": "execute_result"
    }
   ],
   "source": [
    "type(x)"
   ]
  },
  {
   "cell_type": "code",
   "execution_count": 49,
   "id": "936ad7de-6670-491b-aa75-1837de5918fc",
   "metadata": {},
   "outputs": [
    {
     "data": {
      "text/plain": [
       "'a'"
      ]
     },
     "execution_count": 49,
     "metadata": {},
     "output_type": "execute_result"
    }
   ],
   "source": [
    "x[0]"
   ]
  },
  {
   "cell_type": "code",
   "execution_count": 50,
   "id": "12f50a64-17c3-43ac-a225-5a6247268c59",
   "metadata": {},
   "outputs": [
    {
     "data": {
      "text/plain": [
       "'a'"
      ]
     },
     "execution_count": 50,
     "metadata": {},
     "output_type": "execute_result"
    }
   ],
   "source": [
    "x[6]"
   ]
  },
  {
   "cell_type": "code",
   "execution_count": 51,
   "id": "257bd67f-d1ee-4e25-8d14-01e6a19f80d2",
   "metadata": {},
   "outputs": [
    {
     "data": {
      "text/plain": [
       "'u'"
      ]
     },
     "execution_count": 51,
     "metadata": {},
     "output_type": "execute_result"
    }
   ],
   "source": [
    "x[7]"
   ]
  },
  {
   "cell_type": "code",
   "execution_count": 52,
   "id": "e22f4e31-1604-482e-ba2f-9599fd947b95",
   "metadata": {},
   "outputs": [
    {
     "data": {
      "text/plain": [
       "'u'"
      ]
     },
     "execution_count": 52,
     "metadata": {},
     "output_type": "execute_result"
    }
   ],
   "source": [
    "x[-1]"
   ]
  },
  {
   "cell_type": "code",
   "execution_count": 53,
   "id": "2b7675de-c822-455a-97c8-59a92e712687",
   "metadata": {},
   "outputs": [
    {
     "data": {
      "text/plain": [
       "'r'"
      ]
     },
     "execution_count": 53,
     "metadata": {},
     "output_type": "execute_result"
    }
   ],
   "source": [
    "x[-5]"
   ]
  },
  {
   "cell_type": "code",
   "execution_count": 54,
   "id": "f202f132-0efb-4d16-af84-f5b0c83c4717",
   "metadata": {},
   "outputs": [
    {
     "data": {
      "text/plain": [
       "'amarb'"
      ]
     },
     "execution_count": 54,
     "metadata": {},
     "output_type": "execute_result"
    }
   ],
   "source": [
    "x[0:5]"
   ]
  },
  {
   "cell_type": "code",
   "execution_count": 55,
   "id": "5e7e4ea5-6731-4057-ac70-5d32866bb3fb",
   "metadata": {},
   "outputs": [
    {
     "data": {
      "text/plain": [
       "'amar'"
      ]
     },
     "execution_count": 55,
     "metadata": {},
     "output_type": "execute_result"
    }
   ],
   "source": [
    "x[0:4]"
   ]
  },
  {
   "cell_type": "code",
   "execution_count": 56,
   "id": "bbd688d0-1bc0-4891-8cf1-419b40cb2a1a",
   "metadata": {},
   "outputs": [
    {
     "data": {
      "text/plain": [
       "'aaba'"
      ]
     },
     "execution_count": 56,
     "metadata": {},
     "output_type": "execute_result"
    }
   ],
   "source": [
    "x[0:7:2]# alternate data"
   ]
  },
  {
   "cell_type": "code",
   "execution_count": 57,
   "id": "4794a4d3-41c0-4738-833e-2260f7f3a7f9",
   "metadata": {},
   "outputs": [
    {
     "data": {
      "text/plain": [
       "'aaba'"
      ]
     },
     "execution_count": 57,
     "metadata": {},
     "output_type": "execute_result"
    }
   ],
   "source": [
    "x[::2]"
   ]
  },
  {
   "cell_type": "code",
   "execution_count": 58,
   "id": "1e2d72ca-69a3-4c4e-81eb-6cea69c745f1",
   "metadata": {},
   "outputs": [
    {
     "data": {
      "text/plain": [
       "'aba'"
      ]
     },
     "execution_count": 58,
     "metadata": {},
     "output_type": "execute_result"
    }
   ],
   "source": [
    "x[2::2]"
   ]
  },
  {
   "cell_type": "code",
   "execution_count": 59,
   "id": "3731108e-6be9-4644-aa41-70c32bbb9bd3",
   "metadata": {},
   "outputs": [
    {
     "data": {
      "text/plain": [
       "'aab'"
      ]
     },
     "execution_count": 59,
     "metadata": {},
     "output_type": "execute_result"
    }
   ],
   "source": [
    "x[:6:2]"
   ]
  },
  {
   "cell_type": "code",
   "execution_count": 60,
   "id": "2766529c-32f0-46d2-8dba-bc9e84a01aa3",
   "metadata": {},
   "outputs": [
    {
     "data": {
      "text/plain": [
       "'ara'"
      ]
     },
     "execution_count": 60,
     "metadata": {},
     "output_type": "execute_result"
    }
   ],
   "source": [
    "x[::3]"
   ]
  },
  {
   "cell_type": "code",
   "execution_count": 62,
   "id": "13668028-2a31-4753-b9a6-8790c0ade629",
   "metadata": {},
   "outputs": [
    {
     "data": {
      "text/plain": [
       "'uahbrama'"
      ]
     },
     "execution_count": 62,
     "metadata": {},
     "output_type": "execute_result"
    }
   ],
   "source": [
    "x[::-1]"
   ]
  },
  {
   "cell_type": "code",
   "execution_count": 64,
   "id": "ed84131c-2b54-4778-b708-19d6aec88261",
   "metadata": {},
   "outputs": [],
   "source": [
    "e=\" pwskills\""
   ]
  },
  {
   "cell_type": "code",
   "execution_count": 65,
   "id": "cd3cdd0f-0d14-4a9e-b827-4edd0451ed07",
   "metadata": {},
   "outputs": [
    {
     "data": {
      "text/plain": [
       "''"
      ]
     },
     "execution_count": 65,
     "metadata": {},
     "output_type": "execute_result"
    }
   ],
   "source": [
    "e[2:7:-1]"
   ]
  },
  {
   "cell_type": "code",
   "execution_count": 67,
   "id": "5751e7d9-cf8a-4463-9991-1a4df02c733c",
   "metadata": {},
   "outputs": [
    {
     "data": {
      "text/plain": [
       "'sllikswp'"
      ]
     },
     "execution_count": 67,
     "metadata": {},
     "output_type": "execute_result"
    }
   ],
   "source": [
    "e[8:0:-1]"
   ]
  },
  {
   "cell_type": "code",
   "execution_count": 68,
   "id": "2dcbf07a-d0fc-42e3-ad80-b2ccf6f469f8",
   "metadata": {},
   "outputs": [
    {
     "data": {
      "text/plain": [
       "''"
      ]
     },
     "execution_count": 68,
     "metadata": {},
     "output_type": "execute_result"
    }
   ],
   "source": [
    "e[8:0]"
   ]
  },
  {
   "cell_type": "code",
   "execution_count": 69,
   "id": "1038d18f-b20e-40df-ab2d-77fd6d4bf8d7",
   "metadata": {},
   "outputs": [
    {
     "data": {
      "text/plain": [
       "''"
      ]
     },
     "execution_count": 69,
     "metadata": {},
     "output_type": "execute_result"
    }
   ],
   "source": [
    "e[-2:-8]"
   ]
  },
  {
   "cell_type": "code",
   "execution_count": 70,
   "id": "16032198-e344-4166-a9b1-5391aa724d86",
   "metadata": {},
   "outputs": [
    {
     "data": {
      "text/plain": [
       "'sllikswp '"
      ]
     },
     "execution_count": 70,
     "metadata": {},
     "output_type": "execute_result"
    }
   ],
   "source": [
    "e[::-1]"
   ]
  },
  {
   "cell_type": "code",
   "execution_count": 71,
   "id": "cd0bfe1b-b5b4-4216-ba2e-5be8a8b9a17c",
   "metadata": {},
   "outputs": [
    {
     "data": {
      "text/plain": [
       "'slliksw'"
      ]
     },
     "execution_count": 71,
     "metadata": {},
     "output_type": "execute_result"
    }
   ],
   "source": [
    "e[:-8:-1]"
   ]
  },
  {
   "cell_type": "code",
   "execution_count": 72,
   "id": "21a80b0c-f127-49fb-bda8-61474f015068",
   "metadata": {},
   "outputs": [
    {
     "ename": "IndexError",
     "evalue": "string index out of range",
     "output_type": "error",
     "traceback": [
      "\u001b[0;31m---------------------------------------------------------------------------\u001b[0m",
      "\u001b[0;31mIndexError\u001b[0m                                Traceback (most recent call last)",
      "Cell \u001b[0;32mIn[72], line 1\u001b[0m\n\u001b[0;32m----> 1\u001b[0m \u001b[43me\u001b[49m\u001b[43m[\u001b[49m\u001b[38;5;241;43m90\u001b[39;49m\u001b[43m]\u001b[49m\n",
      "\u001b[0;31mIndexError\u001b[0m: string index out of range"
     ]
    }
   ],
   "source": [
    "e[90]"
   ]
  },
  {
   "cell_type": "code",
   "execution_count": 73,
   "id": "25128669-f0a1-49cc-88fc-8ca89b1e81f9",
   "metadata": {},
   "outputs": [
    {
     "data": {
      "text/plain": [
       "' pwskills'"
      ]
     },
     "execution_count": 73,
     "metadata": {},
     "output_type": "execute_result"
    }
   ],
   "source": [
    "e[:90]"
   ]
  },
  {
   "cell_type": "code",
   "execution_count": 75,
   "id": "18192c09-e4fc-4c94-bce5-7c094f8e0687",
   "metadata": {},
   "outputs": [
    {
     "data": {
      "text/plain": [
       "''"
      ]
     },
     "execution_count": 75,
     "metadata": {},
     "output_type": "execute_result"
    }
   ],
   "source": [
    "e[:-90:]"
   ]
  },
  {
   "cell_type": "code",
   "execution_count": 76,
   "id": "87353681-ca54-4afe-afa6-610d0c4341cc",
   "metadata": {},
   "outputs": [
    {
     "data": {
      "text/plain": [
       "' pwskills'"
      ]
     },
     "execution_count": 76,
     "metadata": {},
     "output_type": "execute_result"
    }
   ],
   "source": [
    "e[:90:]"
   ]
  },
  {
   "cell_type": "code",
   "execution_count": 77,
   "id": "da42f268-a251-4093-b404-b2a07374ebba",
   "metadata": {},
   "outputs": [],
   "source": [
    "c=200"
   ]
  },
  {
   "cell_type": "code",
   "execution_count": 78,
   "id": "74cbed39-0d96-4a35-b352-fe7730054ad9",
   "metadata": {},
   "outputs": [],
   "source": [
    "s1='this my srting class'"
   ]
  },
  {
   "cell_type": "code",
   "execution_count": 1,
   "id": "ab056d42-e794-483d-a362-3e335835b06c",
   "metadata": {},
   "outputs": [],
   "source": [
    "u= 4+5j"
   ]
  },
  {
   "cell_type": "code",
   "execution_count": 2,
   "id": "94174983-46c8-4153-8c5a-be2e67085ec4",
   "metadata": {},
   "outputs": [
    {
     "data": {
      "text/plain": [
       "complex"
      ]
     },
     "execution_count": 2,
     "metadata": {},
     "output_type": "execute_result"
    }
   ],
   "source": [
    "type(u)"
   ]
  },
  {
   "cell_type": "code",
   "execution_count": 3,
   "id": "4a58344b-be35-4b62-a6e0-a50a8da9be6c",
   "metadata": {},
   "outputs": [
    {
     "data": {
      "text/plain": [
       "4.0"
      ]
     },
     "execution_count": 3,
     "metadata": {},
     "output_type": "execute_result"
    }
   ],
   "source": [
    "u.real"
   ]
  },
  {
   "cell_type": "code",
   "execution_count": 5,
   "id": "13b50c85-3ae6-48d1-9eca-c9b39d03b572",
   "metadata": {},
   "outputs": [
    {
     "data": {
      "text/plain": [
       "5.0"
      ]
     },
     "execution_count": 5,
     "metadata": {},
     "output_type": "execute_result"
    }
   ],
   "source": [
    "u.imag\n"
   ]
  },
  {
   "cell_type": "code",
   "execution_count": 6,
   "id": "1eea20c4-b1dd-4410-8911-41c4584ddba6",
   "metadata": {},
   "outputs": [],
   "source": [
    "c=200"
   ]
  },
  {
   "cell_type": "code",
   "execution_count": 7,
   "id": "64cda7d4-c382-403d-a40d-0417c929b985",
   "metadata": {},
   "outputs": [],
   "source": [
    "s1=\"this is my srting class\""
   ]
  },
  {
   "cell_type": "code",
   "execution_count": 11,
   "id": "63f7d4b6-ceb1-44ff-aedf-c775ed7fee73",
   "metadata": {},
   "outputs": [
    {
     "data": {
      "text/plain": [
       "20"
      ]
     },
     "execution_count": 11,
     "metadata": {},
     "output_type": "execute_result"
    }
   ],
   "source": [
    "len(s1)"
   ]
  },
  {
   "cell_type": "code",
   "execution_count": 12,
   "id": "c5741031-2653-466d-b715-a025448810df",
   "metadata": {},
   "outputs": [
    {
     "data": {
      "text/plain": [
       "3"
      ]
     },
     "execution_count": 12,
     "metadata": {},
     "output_type": "execute_result"
    }
   ],
   "source": [
    "s1.find('s') # 0123 ( 1st index number of s is 3)"
   ]
  },
  {
   "cell_type": "code",
   "execution_count": 13,
   "id": "4caecd88-8bb3-4a17-9203-556ac79589c4",
   "metadata": {},
   "outputs": [
    {
     "data": {
      "text/plain": [
       "2"
      ]
     },
     "execution_count": 13,
     "metadata": {},
     "output_type": "execute_result"
    }
   ],
   "source": [
    "s1.find('i') #1st index number of i is 2)"
   ]
  },
  {
   "cell_type": "code",
   "execution_count": 14,
   "id": "b6912b80-7761-43c5-9de2-e5bdfdc33c5a",
   "metadata": {},
   "outputs": [
    {
     "data": {
      "text/plain": [
       "2"
      ]
     },
     "execution_count": 14,
     "metadata": {},
     "output_type": "execute_result"
    }
   ],
   "source": [
    "s1.find('is') # find substring"
   ]
  },
  {
   "cell_type": "code",
   "execution_count": 15,
   "id": "3fc3f52d-65cb-444b-b2fd-a5381e7cc410",
   "metadata": {},
   "outputs": [
    {
     "data": {
      "text/plain": [
       "-1"
      ]
     },
     "execution_count": 15,
     "metadata": {},
     "output_type": "execute_result"
    }
   ],
   "source": [
    "s1.find('iSs')"
   ]
  },
  {
   "cell_type": "code",
   "execution_count": 16,
   "id": "a4b1ebef-0310-4324-a232-7ffe0a95d638",
   "metadata": {},
   "outputs": [
    {
     "data": {
      "text/plain": [
       "'this my srting class'"
      ]
     },
     "execution_count": 16,
     "metadata": {},
     "output_type": "execute_result"
    }
   ],
   "source": [
    "s1"
   ]
  },
  {
   "cell_type": "code",
   "execution_count": 17,
   "id": "494549cc-bed7-4311-aa1f-35e10e1376d8",
   "metadata": {},
   "outputs": [
    {
     "data": {
      "text/plain": [
       "4"
      ]
     },
     "execution_count": 17,
     "metadata": {},
     "output_type": "execute_result"
    }
   ],
   "source": [
    "s1.count('s')"
   ]
  },
  {
   "cell_type": "code",
   "execution_count": 18,
   "id": "e32878e6-d8e0-4b4d-9873-1d4409c7e16c",
   "metadata": {},
   "outputs": [
    {
     "data": {
      "text/plain": [
       "0"
      ]
     },
     "execution_count": 18,
     "metadata": {},
     "output_type": "execute_result"
    }
   ],
   "source": [
    "s1.count('q')"
   ]
  },
  {
   "cell_type": "code",
   "execution_count": 19,
   "id": "f05ecc1a-a6f2-40f2-b937-75a2dd64c450",
   "metadata": {},
   "outputs": [
    {
     "data": {
      "text/plain": [
       "'this my srting class'"
      ]
     },
     "execution_count": 19,
     "metadata": {},
     "output_type": "execute_result"
    }
   ],
   "source": [
    "s1"
   ]
  },
  {
   "cell_type": "code",
   "execution_count": 20,
   "id": "33a4750a-8c08-4c2f-a810-c897d2eb1ad5",
   "metadata": {},
   "outputs": [
    {
     "data": {
      "text/plain": [
       "'THIS MY SRTING CLASS'"
      ]
     },
     "execution_count": 20,
     "metadata": {},
     "output_type": "execute_result"
    }
   ],
   "source": [
    "s1.upper()"
   ]
  },
  {
   "cell_type": "code",
   "execution_count": 21,
   "id": "c2178386-6b26-46d9-8436-29e8f48db552",
   "metadata": {},
   "outputs": [],
   "source": [
    "s2='THIS MY SRTING CLASS'"
   ]
  },
  {
   "cell_type": "code",
   "execution_count": 22,
   "id": "6867b4cc-5904-4ed9-a5d6-2316d3d4b3bb",
   "metadata": {},
   "outputs": [
    {
     "data": {
      "text/plain": [
       "'this my srting class'"
      ]
     },
     "execution_count": 22,
     "metadata": {},
     "output_type": "execute_result"
    }
   ],
   "source": [
    "s2.lower()"
   ]
  },
  {
   "cell_type": "code",
   "execution_count": 23,
   "id": "5b87923c-5c91-43ef-9b73-a86a63e01f50",
   "metadata": {},
   "outputs": [
    {
     "data": {
      "text/plain": [
       "'This My Srting Class'"
      ]
     },
     "execution_count": 23,
     "metadata": {},
     "output_type": "execute_result"
    }
   ],
   "source": [
    "s1.title()"
   ]
  },
  {
   "cell_type": "code",
   "execution_count": 24,
   "id": "2af6f61e-2a7a-416a-a99f-4236116ff640",
   "metadata": {},
   "outputs": [
    {
     "data": {
      "text/plain": [
       "'This my srting class'"
      ]
     },
     "execution_count": 24,
     "metadata": {},
     "output_type": "execute_result"
    }
   ],
   "source": [
    "s1.capitalize()"
   ]
  },
  {
   "cell_type": "code",
   "execution_count": 26,
   "id": "587b3cbf-e391-46e6-b45d-4c93cffaf33a",
   "metadata": {},
   "outputs": [],
   "source": [
    "e=\" pwskills\""
   ]
  },
  {
   "cell_type": "code",
   "execution_count": 29,
   "id": "6cdef314-0c64-49e9-bf3e-2a91e1ea1e51",
   "metadata": {},
   "outputs": [
    {
     "data": {
      "text/plain": [
       "' pwskillsamar'"
      ]
     },
     "execution_count": 29,
     "metadata": {},
     "output_type": "execute_result"
    }
   ],
   "source": [
    "e + 'amar'"
   ]
  },
  {
   "cell_type": "code",
   "execution_count": 30,
   "id": "63fcaac2-7da5-4583-95c9-b9d7fbf41274",
   "metadata": {},
   "outputs": [],
   "source": [
    "c=100"
   ]
  },
  {
   "cell_type": "code",
   "execution_count": 31,
   "id": "a5d5e278-c5d6-49a4-a4c1-d088708dc197",
   "metadata": {},
   "outputs": [
    {
     "data": {
      "text/plain": [
       "101"
      ]
     },
     "execution_count": 31,
     "metadata": {},
     "output_type": "execute_result"
    }
   ],
   "source": [
    "c+1"
   ]
  },
  {
   "cell_type": "code",
   "execution_count": 32,
   "id": "0de09b46-2432-424a-8884-99f0fe9d10c9",
   "metadata": {},
   "outputs": [
    {
     "data": {
      "text/plain": [
       "' pwskills pwskills pwskills'"
      ]
     },
     "execution_count": 32,
     "metadata": {},
     "output_type": "execute_result"
    }
   ],
   "source": [
    "e*3"
   ]
  },
  {
   "cell_type": "code",
   "execution_count": 34,
   "id": "5482439d-c5d7-41cc-ae8a-6613d4a6d692",
   "metadata": {},
   "outputs": [
    {
     "data": {
      "text/plain": [
       "'amaramaramaramaramar'"
      ]
     },
     "execution_count": 34,
     "metadata": {},
     "output_type": "execute_result"
    }
   ],
   "source": [
    "'amar' *5"
   ]
  },
  {
   "cell_type": "code",
   "execution_count": 36,
   "id": "131840b3-195f-4c23-8e40-e40b2efb4c2a",
   "metadata": {},
   "outputs": [
    {
     "ename": "SyntaxError",
     "evalue": "unterminated string literal (detected at line 1) (1311262868.py, line 1)",
     "output_type": "error",
     "traceback": [
      "\u001b[0;36m  Cell \u001b[0;32mIn[36], line 1\u001b[0;36m\u001b[0m\n\u001b[0;31m    ' don't my name is amar'\u001b[0m\n\u001b[0m                           ^\u001b[0m\n\u001b[0;31mSyntaxError\u001b[0m\u001b[0;31m:\u001b[0m unterminated string literal (detected at line 1)\n"
     ]
    }
   ],
   "source": [
    "' don't my name is amar'"
   ]
  },
  {
   "cell_type": "code",
   "execution_count": 37,
   "id": "e9adbda5-78a3-4f4c-974f-ede5ed2b2e1a",
   "metadata": {},
   "outputs": [
    {
     "data": {
      "text/plain": [
       "\" don't do \""
      ]
     },
     "execution_count": 37,
     "metadata": {},
     "output_type": "execute_result"
    }
   ],
   "source": [
    "\" don't do \""
   ]
  },
  {
   "cell_type": "code",
   "execution_count": 38,
   "id": "8f0351ed-90f5-4e3f-9d58-08bed1d58616",
   "metadata": {},
   "outputs": [],
   "source": [
    "s= '''my name is amar\n",
    "my father name is sanjay\n",
    "my brother name is nayan\n",
    "my mother name is sapna'''"
   ]
  },
  {
   "cell_type": "code",
   "execution_count": 39,
   "id": "1279ebc4-ed63-4947-8a51-c42491e4e601",
   "metadata": {},
   "outputs": [
    {
     "data": {
      "text/plain": [
       "'my name is amar\\nmy father name is sanjay\\nmy brother name is nayan\\nmy mother name is sapna'"
      ]
     },
     "execution_count": 39,
     "metadata": {},
     "output_type": "execute_result"
    }
   ],
   "source": [
    "s"
   ]
  },
  {
   "cell_type": "code",
   "execution_count": null,
   "id": "9939aa6f-cc07-42bc-8c27-c5556e798527",
   "metadata": {},
   "outputs": [],
   "source": [
    "# my name is amar\n",
    "# my father name is sanjay\n",
    "# my brother name is nayan\n",
    "# my mother name is sapna"
   ]
  }
 ],
 "metadata": {
  "kernelspec": {
   "display_name": "Python 3 (ipykernel)",
   "language": "python",
   "name": "python3"
  },
  "language_info": {
   "codemirror_mode": {
    "name": "ipython",
    "version": 3
   },
   "file_extension": ".py",
   "mimetype": "text/x-python",
   "name": "python",
   "nbconvert_exporter": "python",
   "pygments_lexer": "ipython3",
   "version": "3.10.8"
  },
  "toc-autonumbering": true,
  "toc-showcode": false,
  "toc-showtags": true
 },
 "nbformat": 4,
 "nbformat_minor": 5
}
